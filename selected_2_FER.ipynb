{
  "nbformat": 4,
  "nbformat_minor": 0,
  "metadata": {
    "colab": {
      "name": "selected_2 FER.ipynb",
      "provenance": [],
      "collapsed_sections": []
    },
    "kernelspec": {
      "name": "python3",
      "display_name": "Python 3"
    },
    "language_info": {
      "name": "python"
    }
  },
  "cells": [
    {
      "cell_type": "code",
      "execution_count": 1,
      "metadata": {
        "id": "_W5cHOHfMQNU"
      },
      "outputs": [],
      "source": [
        "from google.colab import drive"
      ]
    },
    {
      "cell_type": "code",
      "source": [
        "drive.mount('/content/drive')"
      ],
      "metadata": {
        "colab": {
          "base_uri": "https://localhost:8080/"
        },
        "id": "T8OtT91JMstv",
        "outputId": "e7faf635-4e3d-41e7-a016-9b80b0bf16d7"
      },
      "execution_count": 2,
      "outputs": [
        {
          "output_type": "stream",
          "name": "stdout",
          "text": [
            "Mounted at /content/drive\n"
          ]
        }
      ]
    },
    {
      "cell_type": "code",
      "source": [
        "import os\n",
        "import numpy as np\n",
        "import cv2\n",
        "from tqdm import tqdm\n"
      ],
      "metadata": {
        "id": "sdDas5W7Oop9"
      },
      "execution_count": 3,
      "outputs": []
    },
    {
      "cell_type": "code",
      "source": [
        "train_dir=\"/content/drive/MyDrive/Colab Notebooks/dataset/train\"\n",
        "test_dir=\"/content/drive/MyDrive/Colab Notebooks/dataset/test\"\n",
        "categories = [\"angry\",\"disgust\",\"fear\",\"happy\",\"neutral\",\"sad\",\"surprise\"]\n",
        "\n",
        "\n",
        "training = []\n",
        "testing = []"
      ],
      "metadata": {
        "id": "h8Mis2AjPDaT"
      },
      "execution_count": 4,
      "outputs": []
    },
    {
      "cell_type": "code",
      "source": [
        "def train_data ():\n",
        "    for category in categories:\n",
        "        path=os.path.join(train_dir, category)\n",
        "        label =categories.index(category)\n",
        "        for img in tqdm(os.listdir(path)):\n",
        "            try:\n",
        "                shape_img=cv2.imread(os.path.join(path, img))\n",
        "                shape_img=cv2.resize(shape_img,(32,32))\n",
        "                training.append([shape_img,label])\n",
        "                    \n",
        "            except Exception as e :\n",
        "                pass\n",
        "            \n",
        "            \n",
        "def test_data ():\n",
        "    for category in categories:\n",
        "        path=os.path.join(test_dir, category)\n",
        "        label =categories.index(category)\n",
        "        for img in tqdm(os.listdir(path)):\n",
        "            try:\n",
        "                shape_img=cv2.imread(os.path.join(path, img))\n",
        "                shape_img=cv2.resize(shape_img,(32,32))\n",
        "                testing.append([shape_img,label])\n",
        "                    \n",
        "            except Exception as e :\n",
        "                pass        \n",
        "    \n",
        "    \n",
        "    \n",
        "\n",
        "train_data ()\n",
        "test_data()\n",
        "\n",
        "Train_features=[]\n",
        "Train_lables=[]\n",
        "Test_features=[]\n",
        "Test_lables=[]\n",
        "\n",
        "for feature ,label in training:\n",
        "    Train_features.append(feature)\n",
        "    Train_lables.append(label)\n",
        "\n",
        "\n",
        "\n",
        "for feature ,label in testing :\n",
        "    Test_features.append(feature)\n",
        "    Test_lables.append(label)\n",
        "\n",
        "\n",
        "\n",
        "Train_features=np.array(Train_features)\n",
        "Train_lables = np.array(Train_lables)\n",
        "Test_features=np.array(Test_features)\n",
        "Test_lables = np.array(Test_lables)"
      ],
      "metadata": {
        "colab": {
          "base_uri": "https://localhost:8080/"
        },
        "id": "6nzO_-dHPt-d",
        "outputId": "3b7f29f1-6522-4440-cc65-eea827a976e9"
      },
      "execution_count": 5,
      "outputs": [
        {
          "output_type": "stream",
          "name": "stderr",
          "text": [
            "100%|██████████| 3995/3995 [00:49<00:00, 80.68it/s] \n",
            "100%|██████████| 436/436 [00:03<00:00, 109.25it/s]\n",
            "100%|██████████| 4097/4097 [00:48<00:00, 84.25it/s] \n",
            "100%|██████████| 7215/7215 [01:37<00:00, 73.92it/s] \n",
            "100%|██████████| 1233/1233 [00:13<00:00, 92.49it/s] \n",
            "100%|██████████| 1247/1247 [00:14<00:00, 88.48it/s] \n",
            "100%|██████████| 831/831 [00:08<00:00, 96.36it/s] \n",
            "100%|██████████| 958/958 [00:10<00:00, 89.80it/s] \n",
            "100%|██████████| 111/111 [00:00<00:00, 114.80it/s]\n",
            "100%|██████████| 1024/1024 [00:11<00:00, 85.69it/s] \n",
            "100%|██████████| 1774/1774 [00:29<00:00, 59.24it/s] \n",
            "100%|██████████| 1233/1233 [00:13<00:00, 89.38it/s] \n",
            "100%|██████████| 1247/1247 [00:13<00:00, 90.86it/s] \n",
            "100%|██████████| 831/831 [00:08<00:00, 97.81it/s] \n"
          ]
        }
      ]
    },
    {
      "cell_type": "code",
      "source": [
        "from tensorflow.keras.models import Sequential\n",
        "from tensorflow.keras.layers import Dense,Flatten,MaxPooling2D,Conv2D,Dropout,Activation,BatchNormalization\n",
        "from tensorflow.keras.preprocessing import image\n",
        "import tensorflow as tf\n",
        "import keras\n"
      ],
      "metadata": {
        "id": "KctRNB5ASeVc"
      },
      "execution_count": 6,
      "outputs": []
    },
    {
      "cell_type": "code",
      "source": [
        "model=Sequential() \n",
        "\n",
        "model.add(Conv2D(50,(5,5),activation='relu',input_shape=(32,32,3)))#feature extraction\n",
        "model.add(BatchNormalization())\n",
        "model.add(Conv2D(50,(5,5),activation='relu'))#feature extraction\n",
        "model.add(MaxPooling2D(pool_size=(2, 2)))#minimize image\n",
        "model.add(Dropout(0.25)) # for regulization\n",
        "model.add(Flatten())\n",
        "model.add(Dense(128,activation='relu')) # feature selection\n",
        "model.add(Dense(7,activation='softmax'))# for predict the label\n",
        "\n",
        "model.compile(optimizer='adam',loss=tf.keras.losses.SparseCategoricalCrossentropy(from_logits=True),metrics=['accuracy'])\n",
        "\n",
        "\n",
        "# overview of deep neural network\n",
        "model.summary()\n",
        "\n",
        "history = model.fit(Train_features , Train_lables, epochs=70,batch_size= 10 , validation_data=(Test_features, Test_lables))\n",
        "test_loss, test_acc = model.evaluate(Test_features,  Test_lables, verbose=2)\n",
        "print(\"accuracy \", test_acc)\n"
      ],
      "metadata": {
        "colab": {
          "base_uri": "https://localhost:8080/"
        },
        "id": "Fdyqi1QNTk_e",
        "outputId": "f75c7832-4690-4f80-9787-a472a15e5f4e"
      },
      "execution_count": 14,
      "outputs": [
        {
          "output_type": "stream",
          "name": "stdout",
          "text": [
            "Model: \"sequential_7\"\n",
            "_________________________________________________________________\n",
            " Layer (type)                Output Shape              Param #   \n",
            "=================================================================\n",
            " conv2d_15 (Conv2D)          (None, 28, 28, 50)        3800      \n",
            "                                                                 \n",
            " batch_normalization_9 (Batc  (None, 28, 28, 50)       200       \n",
            " hNormalization)                                                 \n",
            "                                                                 \n",
            " conv2d_16 (Conv2D)          (None, 24, 24, 50)        62550     \n",
            "                                                                 \n",
            " max_pooling2d_9 (MaxPooling  (None, 12, 12, 50)       0         \n",
            " 2D)                                                             \n",
            "                                                                 \n",
            " dropout_6 (Dropout)         (None, 12, 12, 50)        0         \n",
            "                                                                 \n",
            " flatten_1 (Flatten)         (None, 7200)              0         \n",
            "                                                                 \n",
            " dense_12 (Dense)            (None, 128)               921728    \n",
            "                                                                 \n",
            " dense_13 (Dense)            (None, 7)                 903       \n",
            "                                                                 \n",
            "=================================================================\n",
            "Total params: 989,181\n",
            "Trainable params: 989,081\n",
            "Non-trainable params: 100\n",
            "_________________________________________________________________\n",
            "Epoch 1/70\n"
          ]
        },
        {
          "output_type": "stream",
          "name": "stderr",
          "text": [
            "/usr/local/lib/python3.7/dist-packages/tensorflow/python/util/dispatch.py:1082: UserWarning: \"`sparse_categorical_crossentropy` received `from_logits=True`, but the `output` argument was produced by a sigmoid or softmax activation and thus does not represent logits. Was this intended?\"\n",
            "  return dispatch_target(*args, **kwargs)\n"
          ]
        },
        {
          "output_type": "stream",
          "name": "stdout",
          "text": [
            "1906/1906 [==============================] - 181s 95ms/step - loss: 1.5436 - accuracy: 0.4247 - val_loss: 1.7105 - val_accuracy: 0.3206\n",
            "Epoch 2/70\n",
            "1906/1906 [==============================] - 180s 94ms/step - loss: 1.3894 - accuracy: 0.4835 - val_loss: 1.7042 - val_accuracy: 0.3468\n",
            "Epoch 3/70\n",
            "1906/1906 [==============================] - 180s 94ms/step - loss: 1.3143 - accuracy: 0.5155 - val_loss: 1.6989 - val_accuracy: 0.3479\n",
            "Epoch 4/70\n",
            "1906/1906 [==============================] - 180s 94ms/step - loss: 1.2439 - accuracy: 0.5404 - val_loss: 1.7164 - val_accuracy: 0.3739\n",
            "Epoch 5/70\n",
            "1906/1906 [==============================] - 179s 94ms/step - loss: 1.1881 - accuracy: 0.5561 - val_loss: 1.4546 - val_accuracy: 0.4482\n",
            "Epoch 6/70\n",
            "1906/1906 [==============================] - 179s 94ms/step - loss: 1.1254 - accuracy: 0.5841 - val_loss: 1.8926 - val_accuracy: 0.3511\n",
            "Epoch 7/70\n",
            "1906/1906 [==============================] - 179s 94ms/step - loss: 1.0721 - accuracy: 0.6044 - val_loss: 1.3549 - val_accuracy: 0.4650\n",
            "Epoch 8/70\n",
            "1906/1906 [==============================] - 180s 94ms/step - loss: 1.0188 - accuracy: 0.6204 - val_loss: 1.3356 - val_accuracy: 0.4706\n",
            "Epoch 9/70\n",
            "1906/1906 [==============================] - 180s 94ms/step - loss: 0.9494 - accuracy: 0.6424 - val_loss: 1.2211 - val_accuracy: 0.5171\n",
            "Epoch 10/70\n",
            "1906/1906 [==============================] - 180s 94ms/step - loss: 0.8980 - accuracy: 0.6663 - val_loss: 1.3225 - val_accuracy: 0.5117\n",
            "Epoch 11/70\n",
            "1906/1906 [==============================] - 180s 94ms/step - loss: 0.8443 - accuracy: 0.6824 - val_loss: 1.1981 - val_accuracy: 0.5481\n",
            "Epoch 12/70\n",
            "1906/1906 [==============================] - 179s 94ms/step - loss: 0.7908 - accuracy: 0.7073 - val_loss: 1.1924 - val_accuracy: 0.5340\n",
            "Epoch 13/70\n",
            "1906/1906 [==============================] - 179s 94ms/step - loss: 0.7316 - accuracy: 0.7298 - val_loss: 1.2655 - val_accuracy: 0.5405\n",
            "Epoch 14/70\n",
            "1906/1906 [==============================] - 180s 94ms/step - loss: 0.6868 - accuracy: 0.7476 - val_loss: 1.3650 - val_accuracy: 0.6137\n",
            "Epoch 15/70\n",
            "1906/1906 [==============================] - 180s 95ms/step - loss: 0.6535 - accuracy: 0.7585 - val_loss: 1.1824 - val_accuracy: 0.6265\n",
            "Epoch 16/70\n",
            "1906/1906 [==============================] - 180s 94ms/step - loss: 0.6105 - accuracy: 0.7718 - val_loss: 1.0818 - val_accuracy: 0.6428\n",
            "Epoch 17/70\n",
            "1906/1906 [==============================] - 180s 95ms/step - loss: 0.5693 - accuracy: 0.7927 - val_loss: 1.0256 - val_accuracy: 0.6704\n",
            "Epoch 18/70\n",
            "1906/1906 [==============================] - 180s 94ms/step - loss: 0.5248 - accuracy: 0.8071 - val_loss: 1.0535 - val_accuracy: 0.6870\n",
            "Epoch 19/70\n",
            "1906/1906 [==============================] - 180s 95ms/step - loss: 0.5068 - accuracy: 0.8151 - val_loss: 1.0228 - val_accuracy: 0.7070\n",
            "Epoch 20/70\n",
            "1906/1906 [==============================] - 180s 94ms/step - loss: 0.4711 - accuracy: 0.8304 - val_loss: 1.1145 - val_accuracy: 0.6865\n",
            "Epoch 21/70\n",
            "1906/1906 [==============================] - 180s 94ms/step - loss: 0.4451 - accuracy: 0.8369 - val_loss: 1.0173 - val_accuracy: 0.7138\n",
            "Epoch 22/70\n",
            "1906/1906 [==============================] - 179s 94ms/step - loss: 0.4280 - accuracy: 0.8471 - val_loss: 1.0508 - val_accuracy: 0.7295\n",
            "Epoch 23/70\n",
            "1906/1906 [==============================] - 181s 95ms/step - loss: 0.4073 - accuracy: 0.8550 - val_loss: 1.0895 - val_accuracy: 0.7168\n",
            "Epoch 24/70\n",
            "1906/1906 [==============================] - 179s 94ms/step - loss: 0.3786 - accuracy: 0.8660 - val_loss: 1.0509 - val_accuracy: 0.7444\n",
            "Epoch 25/70\n",
            "1906/1906 [==============================] - 180s 95ms/step - loss: 0.3450 - accuracy: 0.8765 - val_loss: 1.0250 - val_accuracy: 0.7400\n",
            "Epoch 26/70\n",
            "1906/1906 [==============================] - 180s 94ms/step - loss: 0.3374 - accuracy: 0.8794 - val_loss: 0.9978 - val_accuracy: 0.7459\n",
            "Epoch 27/70\n",
            "1906/1906 [==============================] - 181s 95ms/step - loss: 0.3200 - accuracy: 0.8859 - val_loss: 1.2187 - val_accuracy: 0.7430\n",
            "Epoch 28/70\n",
            "1906/1906 [==============================] - 180s 95ms/step - loss: 0.3074 - accuracy: 0.8918 - val_loss: 1.1040 - val_accuracy: 0.7588\n",
            "Epoch 29/70\n",
            "1906/1906 [==============================] - 180s 95ms/step - loss: 0.2984 - accuracy: 0.8968 - val_loss: 1.0339 - val_accuracy: 0.7577\n",
            "Epoch 30/70\n",
            "1906/1906 [==============================] - 180s 94ms/step - loss: 0.2724 - accuracy: 0.9029 - val_loss: 1.1377 - val_accuracy: 0.7452\n",
            "Epoch 31/70\n",
            "1906/1906 [==============================] - 187s 98ms/step - loss: 0.2696 - accuracy: 0.9069 - val_loss: 1.1045 - val_accuracy: 0.7646\n",
            "Epoch 32/70\n",
            "1906/1906 [==============================] - 181s 95ms/step - loss: 0.2468 - accuracy: 0.9141 - val_loss: 1.4723 - val_accuracy: 0.7609\n",
            "Epoch 33/70\n",
            "1906/1906 [==============================] - 180s 95ms/step - loss: 0.2509 - accuracy: 0.9130 - val_loss: 1.5172 - val_accuracy: 0.7687\n",
            "Epoch 34/70\n",
            "1906/1906 [==============================] - 180s 95ms/step - loss: 0.2276 - accuracy: 0.9205 - val_loss: 1.1729 - val_accuracy: 0.7750\n",
            "Epoch 35/70\n",
            "1906/1906 [==============================] - 180s 95ms/step - loss: 0.2340 - accuracy: 0.9212 - val_loss: 1.0516 - val_accuracy: 0.7834\n",
            "Epoch 36/70\n",
            "1906/1906 [==============================] - 180s 95ms/step - loss: 0.2074 - accuracy: 0.9294 - val_loss: 1.1001 - val_accuracy: 0.7792\n",
            "Epoch 37/70\n",
            "1906/1906 [==============================] - 182s 95ms/step - loss: 0.2104 - accuracy: 0.9296 - val_loss: 1.2916 - val_accuracy: 0.7761\n",
            "Epoch 38/70\n",
            "1906/1906 [==============================] - 181s 95ms/step - loss: 0.1952 - accuracy: 0.9341 - val_loss: 1.3079 - val_accuracy: 0.7796\n",
            "Epoch 39/70\n",
            "1906/1906 [==============================] - 181s 95ms/step - loss: 0.1888 - accuracy: 0.9369 - val_loss: 1.1841 - val_accuracy: 0.7824\n",
            "Epoch 40/70\n",
            "1906/1906 [==============================] - 181s 95ms/step - loss: 0.1927 - accuracy: 0.9347 - val_loss: 1.2470 - val_accuracy: 0.7933\n",
            "Epoch 41/70\n",
            "1906/1906 [==============================] - 182s 95ms/step - loss: 0.1807 - accuracy: 0.9385 - val_loss: 1.5789 - val_accuracy: 0.7852\n",
            "Epoch 42/70\n",
            "1906/1906 [==============================] - 181s 95ms/step - loss: 0.1735 - accuracy: 0.9435 - val_loss: 1.4874 - val_accuracy: 0.7816\n",
            "Epoch 43/70\n",
            "1906/1906 [==============================] - 182s 95ms/step - loss: 0.1636 - accuracy: 0.9455 - val_loss: 1.3917 - val_accuracy: 0.7875\n",
            "Epoch 44/70\n",
            "1906/1906 [==============================] - 181s 95ms/step - loss: 0.1709 - accuracy: 0.9438 - val_loss: 1.4055 - val_accuracy: 0.7795\n",
            "Epoch 45/70\n",
            "1906/1906 [==============================] - 181s 95ms/step - loss: 0.1565 - accuracy: 0.9481 - val_loss: 1.8325 - val_accuracy: 0.7891\n",
            "Epoch 46/70\n",
            "1906/1906 [==============================] - 182s 95ms/step - loss: 0.1546 - accuracy: 0.9495 - val_loss: 1.6879 - val_accuracy: 0.7938\n",
            "Epoch 47/70\n",
            "1906/1906 [==============================] - 182s 95ms/step - loss: 0.1507 - accuracy: 0.9499 - val_loss: 1.4150 - val_accuracy: 0.7972\n",
            "Epoch 48/70\n",
            "1906/1906 [==============================] - 182s 96ms/step - loss: 0.1457 - accuracy: 0.9525 - val_loss: 1.2891 - val_accuracy: 0.7923\n",
            "Epoch 49/70\n",
            "1906/1906 [==============================] - 181s 95ms/step - loss: 0.1367 - accuracy: 0.9566 - val_loss: 1.4053 - val_accuracy: 0.7907\n",
            "Epoch 50/70\n",
            "1906/1906 [==============================] - 181s 95ms/step - loss: 0.1305 - accuracy: 0.9578 - val_loss: 1.3358 - val_accuracy: 0.7910\n",
            "Epoch 51/70\n",
            "1906/1906 [==============================] - 182s 95ms/step - loss: 0.1335 - accuracy: 0.9562 - val_loss: 1.4747 - val_accuracy: 0.7916\n",
            "Epoch 52/70\n",
            "1906/1906 [==============================] - 181s 95ms/step - loss: 0.1248 - accuracy: 0.9613 - val_loss: 1.7065 - val_accuracy: 0.7853\n",
            "Epoch 53/70\n",
            "1906/1906 [==============================] - 181s 95ms/step - loss: 0.1332 - accuracy: 0.9579 - val_loss: 1.5752 - val_accuracy: 0.7909\n",
            "Epoch 54/70\n",
            "1906/1906 [==============================] - 183s 96ms/step - loss: 0.1191 - accuracy: 0.9604 - val_loss: 1.7839 - val_accuracy: 0.7992\n",
            "Epoch 55/70\n",
            "1906/1906 [==============================] - 181s 95ms/step - loss: 0.1184 - accuracy: 0.9615 - val_loss: 2.1183 - val_accuracy: 0.7770\n",
            "Epoch 56/70\n",
            "1906/1906 [==============================] - 182s 96ms/step - loss: 0.1154 - accuracy: 0.9624 - val_loss: 1.7802 - val_accuracy: 0.7960\n",
            "Epoch 57/70\n",
            "1906/1906 [==============================] - 182s 96ms/step - loss: 0.1185 - accuracy: 0.9620 - val_loss: 1.8418 - val_accuracy: 0.7979\n",
            "Epoch 58/70\n",
            "1906/1906 [==============================] - 183s 96ms/step - loss: 0.1181 - accuracy: 0.9631 - val_loss: 1.8540 - val_accuracy: 0.7995\n",
            "Epoch 59/70\n",
            "1906/1906 [==============================] - 183s 96ms/step - loss: 0.1126 - accuracy: 0.9649 - val_loss: 2.2643 - val_accuracy: 0.7938\n",
            "Epoch 60/70\n",
            "1906/1906 [==============================] - 183s 96ms/step - loss: 0.1106 - accuracy: 0.9656 - val_loss: 1.5421 - val_accuracy: 0.7951\n",
            "Epoch 61/70\n",
            "1906/1906 [==============================] - 183s 96ms/step - loss: 0.0996 - accuracy: 0.9692 - val_loss: 1.4251 - val_accuracy: 0.8029\n",
            "Epoch 62/70\n",
            "1906/1906 [==============================] - 183s 96ms/step - loss: 0.1052 - accuracy: 0.9677 - val_loss: 1.4684 - val_accuracy: 0.7984\n",
            "Epoch 63/70\n",
            "1906/1906 [==============================] - 182s 96ms/step - loss: 0.1021 - accuracy: 0.9687 - val_loss: 1.5287 - val_accuracy: 0.7907\n",
            "Epoch 64/70\n",
            "1906/1906 [==============================] - 184s 97ms/step - loss: 0.0974 - accuracy: 0.9691 - val_loss: 1.8972 - val_accuracy: 0.8027\n",
            "Epoch 65/70\n",
            "1906/1906 [==============================] - 184s 96ms/step - loss: 0.1074 - accuracy: 0.9675 - val_loss: 1.8895 - val_accuracy: 0.7919\n",
            "Epoch 66/70\n",
            "1906/1906 [==============================] - 182s 95ms/step - loss: 0.1005 - accuracy: 0.9691 - val_loss: 1.5941 - val_accuracy: 0.8068\n",
            "Epoch 67/70\n",
            "1906/1906 [==============================] - 184s 96ms/step - loss: 0.0832 - accuracy: 0.9734 - val_loss: 2.0434 - val_accuracy: 0.8011\n",
            "Epoch 68/70\n",
            "1906/1906 [==============================] - 200s 105ms/step - loss: 0.0980 - accuracy: 0.9692 - val_loss: 1.4682 - val_accuracy: 0.8034\n",
            "Epoch 69/70\n",
            "1906/1906 [==============================] - 185s 97ms/step - loss: 0.0916 - accuracy: 0.9706 - val_loss: 1.3022 - val_accuracy: 0.8001\n",
            "Epoch 70/70\n",
            "1906/1906 [==============================] - 185s 97ms/step - loss: 0.0935 - accuracy: 0.9724 - val_loss: 1.2863 - val_accuracy: 0.8038\n",
            "225/225 - 13s - loss: 1.2863 - accuracy: 0.8038 - 13s/epoch - 60ms/step\n",
            "accuracy  0.8038451075553894\n"
          ]
        }
      ]
    },
    {
      "cell_type": "code",
      "source": [
        "import matplotlib.pyplot as plt\n",
        "#loss curve\n",
        "\n",
        "print(history.history.keys())\n",
        "plt.plot(history.history['loss'])\n",
        "plt.plot(history.history['val_loss'])\n",
        "plt.title('model loss')\n",
        "plt.ylabel('loss')\n",
        "plt.xlabel('epoch')\n",
        "plt.legend(['train', 'validation'], loc='upper right')\n",
        "plt.show()"
      ],
      "metadata": {
        "id": "WINZFIamm_xM",
        "colab": {
          "base_uri": "https://localhost:8080/",
          "height": 312
        },
        "outputId": "ac55da8a-dc16-4d34-9b6c-4e63eb5522ea"
      },
      "execution_count": 15,
      "outputs": [
        {
          "output_type": "stream",
          "name": "stdout",
          "text": [
            "dict_keys(['loss', 'accuracy', 'val_loss', 'val_accuracy'])\n"
          ]
        },
        {
          "output_type": "display_data",
          "data": {
            "text/plain": [
              "<Figure size 432x288 with 1 Axes>"
            ],
            "image/png": "[encoded data removed]"
          },
          "metadata": {
            "needs_background": "light"
          }
        }
      ]
    },
    {
      "cell_type": "code",
      "source": [
        "#accuracy curve\n",
        "loss_train = history.history['accuracy']\n",
        "epochs = range(1,71)\n",
        "plt.plot(epochs, loss_train, 'g', label='accuracy')\n",
        "plt.title('accuracy curve')\n",
        "plt.xlabel('Epochs')\n",
        "plt.ylabel('Accuracy')\n",
        "plt.legend()\n",
        "plt.show()"
      ],
      "metadata": {
        "colab": {
          "base_uri": "https://localhost:8080/",
          "height": 295
        },
        "id": "FPsPAT31rK2h",
        "outputId": "a2d0c168-64f7-4055-c9ff-ad1881110402"
      },
      "execution_count": 21,
      "outputs": [
        {
          "output_type": "display_data",
          "data": {
            "text/plain": [
              "<Figure size 432x288 with 1 Axes>"
            ],
            "image/png": "[encoded data removed]"
          },
          "metadata": {
            "needs_background": "light"
          }
        }
      ]
    },
    {
      "cell_type": "code",
      "source": [
        "from sklearn.metrics import confusion_matrix\n",
        "import seaborn as sns\n",
        "import pandas as pd\n",
        "\n",
        "prediction = model.predict(Test_features).argmax(axis=1)\n",
        "cm = confusion_matrix(Test_lables, prediction)\n",
        "\n",
        "cm_df = pd.DataFrame(cm,\n",
        "                     index =  [\"angry\",\"disgust\",\"fear\",\"happy\",\"neutral\",\"sad\",\"surprise\"], \n",
        "                     columns =  [\"angry\",\"disgust\",\"fear\",\"happy\",\"neutral\",\"sad\",\"surprise\"])\n",
        "\n",
        "plt.figure(figsize=(7,7))\n",
        "sns.heatmap(cm_df, annot=True)\n",
        "plt.title('Confusion Matrix')\n",
        "plt.ylabel('Actal Values')\n",
        "plt.xlabel('Predicted Values')\n",
        "plt.show()"
      ],
      "metadata": {
        "colab": {
          "base_uri": "https://localhost:8080/",
          "height": 458
        },
        "id": "VSNZIoS8rPnN",
        "outputId": "a89d7672-6638-4a3d-d5e8-edfde0eb0ec7"
      },
      "execution_count": 22,
      "outputs": [
        {
          "output_type": "display_data",
          "data": {
            "text/plain": [
              "<Figure size 504x504 with 2 Axes>"
            ],
            "image/png": "[encoded data removed]"
          },
          "metadata": {
            "needs_background": "light"
          }
        }
      ]
    }
  ]
}